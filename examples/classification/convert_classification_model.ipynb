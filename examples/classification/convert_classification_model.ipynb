{
 "cells": [
  {
   "cell_type": "code",
   "execution_count": 1,
   "metadata": {},
   "outputs": [
    {
     "name": "stderr",
     "output_type": "stream",
     "text": [
      "WARNING: Logging before flag parsing goes to stderr.\n",
      "W0905 11:25:26.868213 139929929832256 lazy_loader.py:50] \n",
      "The TensorFlow contrib module will not be included in TensorFlow 2.0.\n",
      "For more information, please see:\n",
      "  * https://github.com/tensorflow/community/blob/master/rfcs/20180907-contrib-sunset.md\n",
      "  * https://github.com/tensorflow/addons\n",
      "  * https://github.com/tensorflow/io (for I/O related ops)\n",
      "If you depend on functionality not listed there, please file an issue.\n",
      "\n",
      "W0905 11:25:26.869752 139929929832256 deprecation_wrapper.py:119] From /root/.local/lib/python3.6/site-packages/slim-0.1-py3.6.egg/nets/inception_resnet_v2.py:373: The name tf.GraphKeys is deprecated. Please use tf.compat.v1.GraphKeys instead.\n",
      "\n",
      "W0905 11:25:26.916887 139929929832256 deprecation_wrapper.py:119] From /root/.local/lib/python3.6/site-packages/slim-0.1-py3.6.egg/nets/mobilenet/mobilenet.py:397: The name tf.nn.avg_pool is deprecated. Please use tf.nn.avg_pool2d instead.\n",
      "\n"
     ]
    }
   ],
   "source": [
    "import sys\n",
    "import os\n",
    "import urllib\n",
    "import time\n",
    "\n",
    "import tensorflow as tf\n",
    "from tensorflow.python.compiler.tensorrt import trt\n",
    "\n",
    "import matplotlib\n",
    "import matplotlib.pyplot as plt\n",
    "\n",
    "import numpy as np\n",
    "\n",
    "from PIL import Image\n",
    "\n",
    "from tf_trt_models.classification import download_classification_checkpoint, build_classification_graph\n",
    "\n",
    "%matplotlib inline"
   ]
  },
  {
   "cell_type": "code",
   "execution_count": 2,
   "metadata": {},
   "outputs": [],
   "source": [
    "import ipywidgets as widgets"
   ]
  },
  {
   "cell_type": "code",
   "execution_count": 4,
   "metadata": {},
   "outputs": [
    {
     "data": {
      "application/vnd.jupyter.widget-view+json": {
       "model_id": "f7a87ec8dd444dde8a6b53a7375981f2",
       "version_major": 2,
       "version_minor": 0
      },
      "text/plain": [
       "Dropdown(description='model:', options=('mobilenet_v1_0p25_128', 'mobilenet_v1_0p5_160', 'mobilenet_v1_1p0_224…"
      ]
     },
     "metadata": {},
     "output_type": "display_data"
    },
    {
     "data": {
      "application/vnd.jupyter.widget-view+json": {
       "model_id": "18777fa75003454db59d2d9ef4571cf4",
       "version_major": 2,
       "version_minor": 0
      },
      "text/plain": [
       "Dropdown(description='num classes:', options=(1000, 1001), value=1000)"
      ]
     },
     "metadata": {},
     "output_type": "display_data"
    }
   ],
   "source": [
    "MODELS = ['mobilenet_v1_0p25_128', 'mobilenet_v1_0p5_160', 'mobilenet_v1_1p0_224', 'mobilenet_v2_1p0_224',\n",
    "          'vgg_16', 'vgg_19', 'inception_v1',\n",
    "          'inception_v2', 'inception_v3', 'inception_v4', 'inception_resnet_v2', 'resnet_v1_50', 'resnet_v1_101',\n",
    "          'resnet_v1_152', 'resnet_v2_50', 'resnet_v2_101', 'resnet_v2_152']\n",
    "NUM_CLASSES = [1000, 1001]\n",
    "\n",
    "w1 = widgets.Dropdown(options=MODELS,\n",
    "                 value='mobilenet_v1_0p25_128',\n",
    "                 description='model:',\n",
    "                 disabled=False,)\n",
    "\n",
    "w2 = widgets.Dropdown(options=NUM_CLASSES,\n",
    "                 value=1000,\n",
    "                 description='num classes:',\n",
    "                 disabled=False,)\n",
    "display(w1)\n",
    "display(w2)"
   ]
  },
  {
   "cell_type": "code",
   "execution_count": 10,
   "metadata": {},
   "outputs": [],
   "source": [
    "MODEL = w1.value\n",
    "NUM_CLASSES = w2.value\n",
    "LABELS_PATH = './data/imagenet_labels_%d.txt' % NUM_CLASSES\n",
    "IMAGE_PATH = './data/dog-yawning.jpg'"
   ]
  },
  {
   "cell_type": "markdown",
   "metadata": {},
   "source": [
    "### Download the checkpoint and sample image"
   ]
  },
  {
   "cell_type": "code",
   "execution_count": 11,
   "metadata": {},
   "outputs": [],
   "source": [
    "checkpoint_path = download_classification_checkpoint(MODEL, 'data')"
   ]
  },
  {
   "cell_type": "markdown",
   "metadata": {},
   "source": [
    "### Build the frozen graph"
   ]
  },
  {
   "cell_type": "code",
   "execution_count": 12,
   "metadata": {},
   "outputs": [
    {
     "name": "stderr",
     "output_type": "stream",
     "text": [
      "W0905 11:29:30.133925 139929929832256 deprecation.py:323] From /usr/local/lib/python3.6/dist-packages/tensorflow/contrib/layers/python/layers/layers.py:1637: flatten (from tensorflow.python.layers.core) is deprecated and will be removed in a future version.\n",
      "Instructions for updating:\n",
      "Use keras.layers.flatten instead.\n",
      "W0905 11:29:33.145380 139929929832256 deprecation.py:323] From /root/.local/lib/python3.6/site-packages/tf_trt_models-0.0-py3.6.egg/tf_trt_models/classification.py:232: convert_variables_to_constants (from tensorflow.python.framework.graph_util_impl) is deprecated and will be removed in a future version.\n",
      "Instructions for updating:\n",
      "Use `tf.compat.v1.graph_util.convert_variables_to_constants`\n",
      "W0905 11:29:33.146645 139929929832256 deprecation.py:323] From /usr/local/lib/python3.6/dist-packages/tensorflow/python/framework/graph_util_impl.py:270: extract_sub_graph (from tensorflow.python.framework.graph_util_impl) is deprecated and will be removed in a future version.\n",
      "Instructions for updating:\n",
      "Use `tf.compat.v1.graph_util.extract_sub_graph`\n"
     ]
    },
    {
     "name": "stdout",
     "output_type": "stream",
     "text": [
      "['input'] ['scores']\n"
     ]
    }
   ],
   "source": [
    "frozen_graph, input_names, output_names = build_classification_graph(\n",
    "    model=MODEL,\n",
    "    checkpoint=checkpoint_path,\n",
    "    num_classes=NUM_CLASSES\n",
    ")\n",
    "print(input_names, output_names)"
   ]
  },
  {
   "cell_type": "markdown",
   "metadata": {},
   "source": [
    "### Optimized the graph with TensorRT"
   ]
  },
  {
   "cell_type": "code",
   "execution_count": 13,
   "metadata": {},
   "outputs": [
    {
     "name": "stdout",
     "output_type": "stream",
     "text": [
      "trt_engine_opts = 1\n"
     ]
    }
   ],
   "source": [
    "converter = trt.TrtGraphConverter(\n",
    "    input_graph_def=frozen_graph,\n",
    "    nodes_blacklist=output_names, #output nodes\n",
    "    max_batch_size=1,\n",
    "    is_dynamic_op=True,\n",
    "    max_workspace_size_bytes=trt.DEFAULT_TRT_MAX_WORKSPACE_SIZE_BYTES,\n",
    "    precision_mode=trt.TrtPrecisionMode.FP16,\n",
    "    minimum_segment_size=50)\n",
    "trt_graph = converter.convert()\n",
    "\n",
    "trt_engine_opts = len([1 for n in trt_graph.node if str(n.op) == 'TRTEngineOp'])\n",
    "print(\"trt_engine_opts = {}\".format(trt_engine_opts))"
   ]
  },
  {
   "cell_type": "code",
   "execution_count": 14,
   "metadata": {},
   "outputs": [],
   "source": [
    "MODEL_DIR = os.path.join('.', 'model')\n",
    "if tf.gfile.Exists(MODEL_DIR) == False:\n",
    "    tf.gfile.MkDir(MODEL_DIR)"
   ]
  },
  {
   "cell_type": "code",
   "execution_count": 15,
   "metadata": {},
   "outputs": [],
   "source": [
    "base_name = os.path.splitext(os.path.basename(checkpoint_path))[0]\n",
    "save_model_file_name = base_name + '_frozen_fp16.pb'\n",
    "with open(os.path.join(MODEL_DIR, save_model_file_name), 'wb') as f:\n",
    "    f.write(trt_graph.SerializeToString())"
   ]
  },
  {
   "cell_type": "markdown",
   "metadata": {},
   "source": [
    "### copy original model."
   ]
  },
  {
   "cell_type": "code",
   "execution_count": 16,
   "metadata": {},
   "outputs": [],
   "source": [
    "tf.reset_default_graph()\n",
    "frozen_graph, input_names, output_names = build_classification_graph(\n",
    "    model=MODEL,\n",
    "    checkpoint=checkpoint_path,\n",
    "    num_classes=NUM_CLASSES,\n",
    "    is_remove_relu6=False\n",
    ")"
   ]
  },
  {
   "cell_type": "code",
   "execution_count": 17,
   "metadata": {},
   "outputs": [],
   "source": [
    "base_name = os.path.splitext(os.path.basename(checkpoint_path))[0]\n",
    "save_model_file_name = base_name + '_frozen.pb'\n",
    "with open(os.path.join(MODEL_DIR, save_model_file_name), 'wb') as f:\n",
    "    f.write(frozen_graph.SerializeToString())"
   ]
  },
  {
   "cell_type": "code",
   "execution_count": 18,
   "metadata": {},
   "outputs": [
    {
     "name": "stdout",
     "output_type": "stream",
     "text": [
      "total 1365308\r\n",
      "drwxr-xr-x. 2 root root      4096 Sep  5 11:30 .\r\n",
      "drwxr-xr-x. 5 root root      4096 Sep  5 11:30 ..\r\n",
      "-rw-r--r--. 1 root root 224206341 Sep  5 11:30 inception_resnet_v2_2016_08_30_frozen.pb\r\n",
      "-rw-r--r--. 1 root root 448135998 Sep  5 11:30 inception_resnet_v2_2016_08_30_frozen_fp16.pb\r\n",
      "-rw-r--r--. 1 root root 241994428 Sep  5 11:24 resnet_v2_152_frozen.pb\r\n",
      "-rw-r--r--. 1 root root 483717761 Sep  5 11:24 resnet_v2_152_frozen_fp16.pb\r\n"
     ]
    }
   ],
   "source": [
    "!ls -al ./model"
   ]
  },
  {
   "cell_type": "code",
   "execution_count": null,
   "metadata": {},
   "outputs": [],
   "source": []
  }
 ],
 "metadata": {
  "kernelspec": {
   "display_name": "Python 3",
   "language": "python",
   "name": "python3"
  },
  "language_info": {
   "codemirror_mode": {
    "name": "ipython",
    "version": 3
   },
   "file_extension": ".py",
   "mimetype": "text/x-python",
   "name": "python",
   "nbconvert_exporter": "python",
   "pygments_lexer": "ipython3",
   "version": "3.6.8"
  }
 },
 "nbformat": 4,
 "nbformat_minor": 2
}
